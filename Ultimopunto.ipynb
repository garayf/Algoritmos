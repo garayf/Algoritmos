{
 "cells": [
  {
   "cell_type": "code",
   "execution_count": 48,
   "metadata": {
    "collapsed": false
   },
   "outputs": [
    {
     "data": {
      "text/plain": [
       "<Container object of 24 artists>"
      ]
     },
     "execution_count": 48,
     "metadata": {},
     "output_type": "execute_result"
    },
    {
     "data": {
      "image/png": "[encoded data removed]",
      "text/plain": [
       "<matplotlib.figure.Figure at 0x7f2f18825e50>"
      ]
     },
     "metadata": {},
     "output_type": "display_data"
    }
   ],
   "source": [
    "import itertools\n",
    "import numpy as np\n",
    "import matplotlib.pyplot as plt\n",
    "lista=[]\n",
    "cl, sl, il=[], [], []\n",
    "\n",
    "for i in range(4):\n",
    "    lista.append(i)\n",
    "    \n",
    "completo=(list(itertools.permutations(lista))) #de todas las permutaciones en una lista \n",
    "\n",
    "for k in completo:\n",
    "    c=0\n",
    "    s=0\n",
    "    i=0\n",
    "    arr=list(k)\n",
    "    \n",
    "    # insertion sort\n",
    "    for i in range(0, 4):\n",
    "        temp = arr[i]\n",
    "        j = i\n",
    "        i =i + 3\n",
    "        while (j > 0 ):\n",
    "            c =c + 1            \n",
    "            if temp < arr[j - 1]:\n",
    "\n",
    "                arr[j] = arr[j - 1]\n",
    "                j = j - 1\n",
    "                s= s + 1\n",
    "                i=i + 3\n",
    "                \n",
    "            else:\n",
    "                break\n",
    "       \n",
    "        arr[j] = temp\n",
    "    # se van guardando los valores en cada lista    \n",
    "    il.append(i)\n",
    "    sl.append(s)\n",
    "    cl.append(c)\n",
    "\n",
    "    # se imprimen los valores como barras representativas\n",
    "\n",
    "plt.bar(np.arange(len(sl)), sl)\n"
   ]
  },
  {
   "cell_type": "code",
   "execution_count": null,
   "metadata": {
    "collapsed": true
   },
   "outputs": [],
   "source": []
  }
 ],
 "metadata": {
  "kernelspec": {
   "display_name": "Python 2",
   "language": "python",
   "name": "python2"
  },
  "language_info": {
   "codemirror_mode": {
    "name": "ipython",
    "version": 2
   },
   "file_extension": ".py",
   "mimetype": "text/x-python",
   "name": "python",
   "nbconvert_exporter": "python",
   "pygments_lexer": "ipython2",
   "version": "2.7.12"
  }
 },
 "nbformat": 4,
 "nbformat_minor": 0
}