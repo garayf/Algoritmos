import matplotlib.pyplot as plt
from time import time
l=[]
l2=[]
j = 0
ti = time()
def fib(n):
    a, b = 0,1
    i= 0    
    while i < n:        
        a, b = b, a+b        
        i = i + 1    
    l.append(a)    
    
    
while j < 500:
    fib(j)
    j =j + 1
    l2.append(time()-ti)
        
plt.plot(l2);
plt.xlabel('n') 
plt.ylabel('l2')
plt.legend(['n', 't']);
