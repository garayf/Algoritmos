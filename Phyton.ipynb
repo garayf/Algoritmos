import matplotlib.pyplot as plt
from time import time
l=[]
l2=[]
def fib(n):
    a, b = 0,1
    i= 0   
    ti = time()
    while i < n:
        l.append(a)
        a, b = b, a+b
        tf = time()
        l2.append(tf-ti)
        i = i + 1
fib(1000)
        
plt.plot(l2);
plt.xlabel('n') 
plt.ylabel('l2')
plt.legend(['n', 't']);
